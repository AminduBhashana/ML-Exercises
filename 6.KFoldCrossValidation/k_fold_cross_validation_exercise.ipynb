{
 "cells": [
  {
   "cell_type": "markdown",
   "id": "90841467",
   "metadata": {},
   "source": [
    "### K Fold Cross Validation Exercise"
   ]
  },
  {
   "cell_type": "code",
   "execution_count": 1,
   "id": "35cbde9f",
   "metadata": {},
   "outputs": [],
   "source": [
    "from sklearn.linear_model import LogisticRegression\n",
    "from sklearn.svm import SVC\n",
    "from sklearn.tree import DecisionTreeClassifier\n",
    "from sklearn.ensemble import RandomForestClassifier\n",
    "from sklearn.model_selection import cross_val_score\n",
    "from sklearn.datasets import load_iris\n",
    "import numpy as np"
   ]
  },
  {
   "cell_type": "code",
   "execution_count": 2,
   "id": "e3699be4",
   "metadata": {},
   "outputs": [],
   "source": [
    "iris = load_iris()"
   ]
  },
  {
   "cell_type": "code",
   "execution_count": 3,
   "id": "ed598a93",
   "metadata": {},
   "outputs": [
    {
     "data": {
      "text/plain": [
       "['DESCR',\n",
       " 'data',\n",
       " 'data_module',\n",
       " 'feature_names',\n",
       " 'filename',\n",
       " 'frame',\n",
       " 'target',\n",
       " 'target_names']"
      ]
     },
     "execution_count": 3,
     "metadata": {},
     "output_type": "execute_result"
    }
   ],
   "source": [
    "dir(iris)"
   ]
  },
  {
   "cell_type": "markdown",
   "id": "a99ddc1e",
   "metadata": {},
   "source": [
    "<h5>Logistic Regrssion</h5>"
   ]
  },
  {
   "cell_type": "code",
   "execution_count": 4,
   "id": "6017b0ee",
   "metadata": {},
   "outputs": [
    {
     "data": {
      "text/plain": [
       "array([0.96666667, 1.        , 0.93333333, 0.96666667, 1.        ])"
      ]
     },
     "execution_count": 4,
     "metadata": {},
     "output_type": "execute_result"
    }
   ],
   "source": [
    "lr_score = cross_val_score(LogisticRegression(max_iter=1000),iris.data,iris.target)\n",
    "lr_score"
   ]
  },
  {
   "cell_type": "code",
   "execution_count": 5,
   "id": "5ee10b78",
   "metadata": {},
   "outputs": [
    {
     "data": {
      "text/plain": [
       "0.9733333333333334"
      ]
     },
     "execution_count": 5,
     "metadata": {},
     "output_type": "execute_result"
    }
   ],
   "source": [
    "average_lr_score = np.mean(lr_score)\n",
    "average_lr_score"
   ]
  },
  {
   "cell_type": "markdown",
   "id": "aa06a834",
   "metadata": {},
   "source": [
    "<h5>Support Vector Machine</h5>"
   ]
  },
  {
   "cell_type": "code",
   "execution_count": 6,
   "id": "69d7339a",
   "metadata": {},
   "outputs": [
    {
     "data": {
      "text/plain": [
       "array([0.96666667, 0.96666667, 0.96666667, 0.93333333, 1.        ])"
      ]
     },
     "execution_count": 6,
     "metadata": {},
     "output_type": "execute_result"
    }
   ],
   "source": [
    "svm_score = cross_val_score(SVC(),iris.data,iris.target)\n",
    "svm_score"
   ]
  },
  {
   "cell_type": "code",
   "execution_count": 7,
   "id": "5722cd85",
   "metadata": {},
   "outputs": [
    {
     "data": {
      "text/plain": [
       "0.9666666666666666"
      ]
     },
     "execution_count": 7,
     "metadata": {},
     "output_type": "execute_result"
    }
   ],
   "source": [
    "average_svm_score = np.mean(svm_score)\n",
    "average_svm_score"
   ]
  },
  {
   "cell_type": "markdown",
   "id": "40efc36f",
   "metadata": {},
   "source": [
    "<h5>Decision Tree</h5>"
   ]
  },
  {
   "cell_type": "code",
   "execution_count": 8,
   "id": "93859e9f",
   "metadata": {},
   "outputs": [
    {
     "data": {
      "text/plain": [
       "array([0.96666667, 0.96666667, 0.9       , 0.96666667, 1.        ])"
      ]
     },
     "execution_count": 8,
     "metadata": {},
     "output_type": "execute_result"
    }
   ],
   "source": [
    "dt_score = cross_val_score(DecisionTreeClassifier(),iris.data,iris.target)\n",
    "dt_score"
   ]
  },
  {
   "cell_type": "code",
   "execution_count": 9,
   "id": "c96ead67",
   "metadata": {},
   "outputs": [
    {
     "data": {
      "text/plain": [
       "0.9600000000000002"
      ]
     },
     "execution_count": 9,
     "metadata": {},
     "output_type": "execute_result"
    }
   ],
   "source": [
    "average_dt_score = np.mean(dt_score)\n",
    "average_dt_score"
   ]
  },
  {
   "cell_type": "markdown",
   "id": "51131697",
   "metadata": {},
   "source": [
    "<h5>Random Forest</h5>"
   ]
  },
  {
   "cell_type": "code",
   "execution_count": 10,
   "id": "5fc87014",
   "metadata": {},
   "outputs": [
    {
     "data": {
      "text/plain": [
       "array([0.96666667, 0.96666667, 0.93333333, 0.93333333, 1.        ])"
      ]
     },
     "execution_count": 10,
     "metadata": {},
     "output_type": "execute_result"
    }
   ],
   "source": [
    "rf_score = cross_val_score(RandomForestClassifier(),iris.data,iris.target)\n",
    "rf_score"
   ]
  },
  {
   "cell_type": "code",
   "execution_count": 11,
   "id": "df68e710",
   "metadata": {},
   "outputs": [
    {
     "data": {
      "text/plain": [
       "0.96"
      ]
     },
     "execution_count": 11,
     "metadata": {},
     "output_type": "execute_result"
    }
   ],
   "source": [
    "average_rf_score = np.mean(rf_score)\n",
    "average_rf_score"
   ]
  },
  {
   "cell_type": "code",
   "execution_count": 12,
   "id": "ec7699f1",
   "metadata": {},
   "outputs": [
    {
     "data": {
      "text/plain": [
       "array([0.96666667, 0.96666667, 0.93333333, 0.93333333, 1.        ])"
      ]
     },
     "execution_count": 12,
     "metadata": {},
     "output_type": "execute_result"
    }
   ],
   "source": [
    "##parameter Tuning\n",
    "rf_score = cross_val_score(RandomForestClassifier(n_estimators=40),iris.data,iris.target)\n",
    "rf_score"
   ]
  },
  {
   "cell_type": "code",
   "execution_count": 13,
   "id": "202c8a7a",
   "metadata": {},
   "outputs": [
    {
     "data": {
      "text/plain": [
       "0.96"
      ]
     },
     "execution_count": 13,
     "metadata": {},
     "output_type": "execute_result"
    }
   ],
   "source": [
    "average_rf_score = np.mean(rf_score)\n",
    "average_rf_score"
   ]
  },
  {
   "cell_type": "markdown",
   "id": "e09acbec",
   "metadata": {},
   "source": [
    "##### Best Score from Logistic Regression : 0.9733333333333334"
   ]
  }
 ],
 "metadata": {
  "kernelspec": {
   "display_name": "Python 3 (ipykernel)",
   "language": "python",
   "name": "python3"
  },
  "language_info": {
   "codemirror_mode": {
    "name": "ipython",
    "version": 3
   },
   "file_extension": ".py",
   "mimetype": "text/x-python",
   "name": "python",
   "nbconvert_exporter": "python",
   "pygments_lexer": "ipython3",
   "version": "3.11.5"
  }
 },
 "nbformat": 4,
 "nbformat_minor": 5
}
